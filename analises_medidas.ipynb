{
 "cells": [
  {
   "attachments": {},
   "cell_type": "markdown",
   "metadata": {},
   "source": [
    "### Pacotes"
   ]
  },
  {
   "cell_type": "code",
   "execution_count": 1,
   "metadata": {},
   "outputs": [],
   "source": [
    "import pandas as pd\n",
    "import numpy as np\n",
    "import matplotlib.pyplot as plt"
   ]
  },
  {
   "attachments": {},
   "cell_type": "markdown",
   "metadata": {},
   "source": [
    "### Importando os dados  \n",
    "\n",
    "Os dados foram formatados e filtrados em outros arquivos.  \n",
    "\n",
    "Lembrando que, dos mais de 3.3 milhões de inscritos para a prova no ano de 2021, foram removidos da base de dados todos os participantes inscritos como treineiros (uma vez que eles não se beneficiariam de nenhum direito o ENEM proporciona) e os indivíduos que não compareceram em nenhum dos dias da realização do exame (ausentes).  \n",
    "\n",
    "Nesse primeiro momento, a seguinte análise considerada as variáveis socioeconômicas dos candidatos."
   ]
  },
  {
   "cell_type": "code",
   "execution_count": 12,
   "metadata": {},
   "outputs": [
    {
     "data": {
      "text/plain": [
       "(1988276, 15)"
      ]
     },
     "execution_count": 12,
     "metadata": {},
     "output_type": "execute_result"
    }
   ],
   "source": [
    "dados = pd.read_csv('C:/Users/Matias/Documents/Projetos_e_Estudos/ENEM_2021/DADOS/ENEM_2021_FINAL.csv',\n",
    "                    encoding='UTF-8', sep = ',')\n",
    "dados.shape"
   ]
  },
  {
   "cell_type": "markdown",
   "metadata": {},
   "source": [
    "### Declarando algumas variáveis"
   ]
  },
  {
   "cell_type": "code",
   "execution_count": 3,
   "metadata": {},
   "outputs": [],
   "source": [
    "total_inscritos = 3389832\n",
    "\n",
    "total_nao_treineiros = 2952642\n",
    "\n"
   ]
  },
  {
   "cell_type": "markdown",
   "metadata": {},
   "source": [
    "### Informações do dataset"
   ]
  },
  {
   "cell_type": "code",
   "execution_count": 4,
   "metadata": {},
   "outputs": [
    {
     "name": "stdout",
     "output_type": "stream",
     "text": [
      "<class 'pandas.core.frame.DataFrame'>\n",
      "RangeIndex: 1988276 entries, 0 to 1988275\n",
      "Data columns (total 15 columns):\n",
      " #   Column                 Dtype  \n",
      "---  ------                 -----  \n",
      " 0   Unnamed: 0             int64  \n",
      " 1   num_inscricao          int64  \n",
      " 2   faixa_etaria           object \n",
      " 3   sexo                   object \n",
      " 4   raca_cor               object \n",
      " 5   ano_conclusao          int64  \n",
      " 6   escola                 object \n",
      " 7   municipio              object \n",
      " 8   uf                     object \n",
      " 9   nota_ciencia_natureza  float64\n",
      " 10  nota_ciencia_humana    float64\n",
      " 11  nota_linguagens        float64\n",
      " 12  nota_matematica        float64\n",
      " 13  redacao                float64\n",
      " 14  status                 object \n",
      "dtypes: float64(5), int64(3), object(7)\n",
      "memory usage: 227.5+ MB\n"
     ]
    }
   ],
   "source": [
    "dados.info()"
   ]
  },
  {
   "cell_type": "code",
   "execution_count": 4,
   "metadata": {},
   "outputs": [
    {
     "data": {
      "text/html": [
       "<div>\n",
       "<style scoped>\n",
       "    .dataframe tbody tr th:only-of-type {\n",
       "        vertical-align: middle;\n",
       "    }\n",
       "\n",
       "    .dataframe tbody tr th {\n",
       "        vertical-align: top;\n",
       "    }\n",
       "\n",
       "    .dataframe thead th {\n",
       "        text-align: right;\n",
       "    }\n",
       "</style>\n",
       "<table border=\"1\" class=\"dataframe\">\n",
       "  <thead>\n",
       "    <tr style=\"text-align: right;\">\n",
       "      <th></th>\n",
       "      <th>Unnamed: 0</th>\n",
       "      <th>num_inscricao</th>\n",
       "      <th>faixa_etaria</th>\n",
       "      <th>sexo</th>\n",
       "      <th>raca_cor</th>\n",
       "      <th>ano_conclusao</th>\n",
       "      <th>escola</th>\n",
       "      <th>municipio</th>\n",
       "      <th>uf</th>\n",
       "      <th>nota_ciencia_natureza</th>\n",
       "      <th>nota_ciencia_humana</th>\n",
       "      <th>nota_linguagens</th>\n",
       "      <th>nota_matematica</th>\n",
       "      <th>redacao</th>\n",
       "      <th>status</th>\n",
       "    </tr>\n",
       "  </thead>\n",
       "  <tbody>\n",
       "    <tr>\n",
       "      <th>0</th>\n",
       "      <td>0</td>\n",
       "      <td>210053865474</td>\n",
       "      <td>20 anos</td>\n",
       "      <td>Feminino</td>\n",
       "      <td>Branca</td>\n",
       "      <td>3</td>\n",
       "      <td>Não Respondeu</td>\n",
       "      <td>NaN</td>\n",
       "      <td>NaN</td>\n",
       "      <td>0.0</td>\n",
       "      <td>574.6</td>\n",
       "      <td>472.6</td>\n",
       "      <td>0.0</td>\n",
       "      <td>760.0</td>\n",
       "      <td>Não Habilitado</td>\n",
       "    </tr>\n",
       "    <tr>\n",
       "      <th>1</th>\n",
       "      <td>1</td>\n",
       "      <td>210052384164</td>\n",
       "      <td>Entre 31 e 35 anos</td>\n",
       "      <td>Masculino</td>\n",
       "      <td>Branca</td>\n",
       "      <td>11</td>\n",
       "      <td>Não Respondeu</td>\n",
       "      <td>NaN</td>\n",
       "      <td>NaN</td>\n",
       "      <td>505.9</td>\n",
       "      <td>551.8</td>\n",
       "      <td>498.3</td>\n",
       "      <td>461.5</td>\n",
       "      <td>560.0</td>\n",
       "      <td>Habilitado</td>\n",
       "    </tr>\n",
       "    <tr>\n",
       "      <th>2</th>\n",
       "      <td>3</td>\n",
       "      <td>210052128335</td>\n",
       "      <td>18 anos</td>\n",
       "      <td>Masculino</td>\n",
       "      <td>Parda</td>\n",
       "      <td>0</td>\n",
       "      <td>Pública</td>\n",
       "      <td>Crato</td>\n",
       "      <td>CE</td>\n",
       "      <td>580.7</td>\n",
       "      <td>678.9</td>\n",
       "      <td>638.9</td>\n",
       "      <td>659.5</td>\n",
       "      <td>780.0</td>\n",
       "      <td>Habilitado</td>\n",
       "    </tr>\n",
       "    <tr>\n",
       "      <th>3</th>\n",
       "      <td>4</td>\n",
       "      <td>210051353021</td>\n",
       "      <td>17 anos</td>\n",
       "      <td>Feminino</td>\n",
       "      <td>Parda</td>\n",
       "      <td>0</td>\n",
       "      <td>Pública</td>\n",
       "      <td>Redenção</td>\n",
       "      <td>CE</td>\n",
       "      <td>497.7</td>\n",
       "      <td>532.4</td>\n",
       "      <td>457.6</td>\n",
       "      <td>582.6</td>\n",
       "      <td>780.0</td>\n",
       "      <td>Habilitado</td>\n",
       "    </tr>\n",
       "    <tr>\n",
       "      <th>4</th>\n",
       "      <td>6</td>\n",
       "      <td>210052615524</td>\n",
       "      <td>24 anos</td>\n",
       "      <td>Feminino</td>\n",
       "      <td>Parda</td>\n",
       "      <td>6</td>\n",
       "      <td>Não Respondeu</td>\n",
       "      <td>NaN</td>\n",
       "      <td>NaN</td>\n",
       "      <td>0.0</td>\n",
       "      <td>511.9</td>\n",
       "      <td>420.4</td>\n",
       "      <td>0.0</td>\n",
       "      <td>480.0</td>\n",
       "      <td>Não Habilitado</td>\n",
       "    </tr>\n",
       "    <tr>\n",
       "      <th>5</th>\n",
       "      <td>8</td>\n",
       "      <td>210053417016</td>\n",
       "      <td>23 anos</td>\n",
       "      <td>Feminino</td>\n",
       "      <td>Parda</td>\n",
       "      <td>0</td>\n",
       "      <td>Pública</td>\n",
       "      <td>NaN</td>\n",
       "      <td>NaN</td>\n",
       "      <td>487.4</td>\n",
       "      <td>476.5</td>\n",
       "      <td>450.7</td>\n",
       "      <td>493.4</td>\n",
       "      <td>520.0</td>\n",
       "      <td>Habilitado</td>\n",
       "    </tr>\n",
       "    <tr>\n",
       "      <th>6</th>\n",
       "      <td>9</td>\n",
       "      <td>210051128744</td>\n",
       "      <td>19 anos</td>\n",
       "      <td>Feminino</td>\n",
       "      <td>Parda</td>\n",
       "      <td>0</td>\n",
       "      <td>Pública</td>\n",
       "      <td>NaN</td>\n",
       "      <td>NaN</td>\n",
       "      <td>507.6</td>\n",
       "      <td>539.2</td>\n",
       "      <td>494.6</td>\n",
       "      <td>413.3</td>\n",
       "      <td>380.0</td>\n",
       "      <td>Habilitado</td>\n",
       "    </tr>\n",
       "    <tr>\n",
       "      <th>7</th>\n",
       "      <td>10</td>\n",
       "      <td>210052320506</td>\n",
       "      <td>20 anos</td>\n",
       "      <td>Feminino</td>\n",
       "      <td>Parda</td>\n",
       "      <td>2</td>\n",
       "      <td>Não Respondeu</td>\n",
       "      <td>NaN</td>\n",
       "      <td>NaN</td>\n",
       "      <td>650.9</td>\n",
       "      <td>617.9</td>\n",
       "      <td>631.7</td>\n",
       "      <td>796.7</td>\n",
       "      <td>980.0</td>\n",
       "      <td>Habilitado</td>\n",
       "    </tr>\n",
       "    <tr>\n",
       "      <th>8</th>\n",
       "      <td>11</td>\n",
       "      <td>210054444526</td>\n",
       "      <td>17 anos</td>\n",
       "      <td>Feminino</td>\n",
       "      <td>Branca</td>\n",
       "      <td>0</td>\n",
       "      <td>Pública</td>\n",
       "      <td>NaN</td>\n",
       "      <td>NaN</td>\n",
       "      <td>378.5</td>\n",
       "      <td>502.7</td>\n",
       "      <td>487.7</td>\n",
       "      <td>514.9</td>\n",
       "      <td>680.0</td>\n",
       "      <td>Habilitado</td>\n",
       "    </tr>\n",
       "    <tr>\n",
       "      <th>9</th>\n",
       "      <td>12</td>\n",
       "      <td>210053193408</td>\n",
       "      <td>Entre 26 e 30 anos</td>\n",
       "      <td>Masculino</td>\n",
       "      <td>Parda</td>\n",
       "      <td>11</td>\n",
       "      <td>Não Respondeu</td>\n",
       "      <td>NaN</td>\n",
       "      <td>NaN</td>\n",
       "      <td>537.6</td>\n",
       "      <td>476.5</td>\n",
       "      <td>553.2</td>\n",
       "      <td>509.7</td>\n",
       "      <td>560.0</td>\n",
       "      <td>Habilitado</td>\n",
       "    </tr>\n",
       "  </tbody>\n",
       "</table>\n",
       "</div>"
      ],
      "text/plain": [
       "   Unnamed: 0  num_inscricao        faixa_etaria       sexo raca_cor  \\\n",
       "0           0   210053865474             20 anos   Feminino   Branca   \n",
       "1           1   210052384164  Entre 31 e 35 anos  Masculino   Branca   \n",
       "2           3   210052128335             18 anos  Masculino    Parda   \n",
       "3           4   210051353021             17 anos   Feminino    Parda   \n",
       "4           6   210052615524             24 anos   Feminino    Parda   \n",
       "5           8   210053417016             23 anos   Feminino    Parda   \n",
       "6           9   210051128744             19 anos   Feminino    Parda   \n",
       "7          10   210052320506             20 anos   Feminino    Parda   \n",
       "8          11   210054444526             17 anos   Feminino   Branca   \n",
       "9          12   210053193408  Entre 26 e 30 anos  Masculino    Parda   \n",
       "\n",
       "   ano_conclusao         escola municipio   uf  nota_ciencia_natureza  \\\n",
       "0              3  Não Respondeu       NaN  NaN                    0.0   \n",
       "1             11  Não Respondeu       NaN  NaN                  505.9   \n",
       "2              0        Pública     Crato   CE                  580.7   \n",
       "3              0        Pública  Redenção   CE                  497.7   \n",
       "4              6  Não Respondeu       NaN  NaN                    0.0   \n",
       "5              0        Pública       NaN  NaN                  487.4   \n",
       "6              0        Pública       NaN  NaN                  507.6   \n",
       "7              2  Não Respondeu       NaN  NaN                  650.9   \n",
       "8              0        Pública       NaN  NaN                  378.5   \n",
       "9             11  Não Respondeu       NaN  NaN                  537.6   \n",
       "\n",
       "   nota_ciencia_humana  nota_linguagens  nota_matematica  redacao  \\\n",
       "0                574.6            472.6              0.0    760.0   \n",
       "1                551.8            498.3            461.5    560.0   \n",
       "2                678.9            638.9            659.5    780.0   \n",
       "3                532.4            457.6            582.6    780.0   \n",
       "4                511.9            420.4              0.0    480.0   \n",
       "5                476.5            450.7            493.4    520.0   \n",
       "6                539.2            494.6            413.3    380.0   \n",
       "7                617.9            631.7            796.7    980.0   \n",
       "8                502.7            487.7            514.9    680.0   \n",
       "9                476.5            553.2            509.7    560.0   \n",
       "\n",
       "           status  \n",
       "0  Não Habilitado  \n",
       "1      Habilitado  \n",
       "2      Habilitado  \n",
       "3      Habilitado  \n",
       "4  Não Habilitado  \n",
       "5      Habilitado  \n",
       "6      Habilitado  \n",
       "7      Habilitado  \n",
       "8      Habilitado  \n",
       "9      Habilitado  "
      ]
     },
     "execution_count": 4,
     "metadata": {},
     "output_type": "execute_result"
    }
   ],
   "source": [
    "dados.head(10)"
   ]
  },
  {
   "cell_type": "markdown",
   "metadata": {},
   "source": [
    "#### Missing Values\n",
    "\n",
    "Note que mais de 68% das variáveis UF e municípios são valores faltantes, indicando assim que pouco valor pode ser extraído dessas colunas. "
   ]
  },
  {
   "cell_type": "code",
   "execution_count": 6,
   "metadata": {},
   "outputs": [
    {
     "data": {
      "text/html": [
       "<div>\n",
       "<style scoped>\n",
       "    .dataframe tbody tr th:only-of-type {\n",
       "        vertical-align: middle;\n",
       "    }\n",
       "\n",
       "    .dataframe tbody tr th {\n",
       "        vertical-align: top;\n",
       "    }\n",
       "\n",
       "    .dataframe thead th {\n",
       "        text-align: right;\n",
       "    }\n",
       "</style>\n",
       "<table border=\"1\" class=\"dataframe\">\n",
       "  <thead>\n",
       "    <tr style=\"text-align: right;\">\n",
       "      <th></th>\n",
       "      <th>var</th>\n",
       "      <th>num_na</th>\n",
       "      <th>prop</th>\n",
       "    </tr>\n",
       "  </thead>\n",
       "  <tbody>\n",
       "    <tr>\n",
       "      <th>7</th>\n",
       "      <td>municipio</td>\n",
       "      <td>1353777</td>\n",
       "      <td>0.68</td>\n",
       "    </tr>\n",
       "    <tr>\n",
       "      <th>8</th>\n",
       "      <td>uf</td>\n",
       "      <td>1353777</td>\n",
       "      <td>0.68</td>\n",
       "    </tr>\n",
       "    <tr>\n",
       "      <th>0</th>\n",
       "      <td>Unnamed: 0</td>\n",
       "      <td>0</td>\n",
       "      <td>0.00</td>\n",
       "    </tr>\n",
       "    <tr>\n",
       "      <th>1</th>\n",
       "      <td>num_inscricao</td>\n",
       "      <td>0</td>\n",
       "      <td>0.00</td>\n",
       "    </tr>\n",
       "    <tr>\n",
       "      <th>2</th>\n",
       "      <td>faixa_etaria</td>\n",
       "      <td>0</td>\n",
       "      <td>0.00</td>\n",
       "    </tr>\n",
       "    <tr>\n",
       "      <th>3</th>\n",
       "      <td>sexo</td>\n",
       "      <td>0</td>\n",
       "      <td>0.00</td>\n",
       "    </tr>\n",
       "    <tr>\n",
       "      <th>4</th>\n",
       "      <td>raca_cor</td>\n",
       "      <td>0</td>\n",
       "      <td>0.00</td>\n",
       "    </tr>\n",
       "    <tr>\n",
       "      <th>5</th>\n",
       "      <td>ano_conclusao</td>\n",
       "      <td>0</td>\n",
       "      <td>0.00</td>\n",
       "    </tr>\n",
       "    <tr>\n",
       "      <th>6</th>\n",
       "      <td>escola</td>\n",
       "      <td>0</td>\n",
       "      <td>0.00</td>\n",
       "    </tr>\n",
       "    <tr>\n",
       "      <th>9</th>\n",
       "      <td>nota_ciencia_natureza</td>\n",
       "      <td>0</td>\n",
       "      <td>0.00</td>\n",
       "    </tr>\n",
       "    <tr>\n",
       "      <th>10</th>\n",
       "      <td>nota_ciencia_humana</td>\n",
       "      <td>0</td>\n",
       "      <td>0.00</td>\n",
       "    </tr>\n",
       "    <tr>\n",
       "      <th>11</th>\n",
       "      <td>nota_linguagens</td>\n",
       "      <td>0</td>\n",
       "      <td>0.00</td>\n",
       "    </tr>\n",
       "    <tr>\n",
       "      <th>12</th>\n",
       "      <td>nota_matematica</td>\n",
       "      <td>0</td>\n",
       "      <td>0.00</td>\n",
       "    </tr>\n",
       "    <tr>\n",
       "      <th>13</th>\n",
       "      <td>redacao</td>\n",
       "      <td>0</td>\n",
       "      <td>0.00</td>\n",
       "    </tr>\n",
       "    <tr>\n",
       "      <th>14</th>\n",
       "      <td>status</td>\n",
       "      <td>0</td>\n",
       "      <td>0.00</td>\n",
       "    </tr>\n",
       "  </tbody>\n",
       "</table>\n",
       "</div>"
      ],
      "text/plain": [
       "                      var   num_na  prop\n",
       "7               municipio  1353777  0.68\n",
       "8                      uf  1353777  0.68\n",
       "0              Unnamed: 0        0  0.00\n",
       "1           num_inscricao        0  0.00\n",
       "2            faixa_etaria        0  0.00\n",
       "3                    sexo        0  0.00\n",
       "4                raca_cor        0  0.00\n",
       "5           ano_conclusao        0  0.00\n",
       "6                  escola        0  0.00\n",
       "9   nota_ciencia_natureza        0  0.00\n",
       "10    nota_ciencia_humana        0  0.00\n",
       "11        nota_linguagens        0  0.00\n",
       "12        nota_matematica        0  0.00\n",
       "13                redacao        0  0.00\n",
       "14                 status        0  0.00"
      ]
     },
     "execution_count": 6,
     "metadata": {},
     "output_type": "execute_result"
    }
   ],
   "source": [
    "#quantidade de missing values de cada variável\n",
    "num_na = np.array([sum(dados[i].isnull()) for i in list(dados.columns)])\n",
    "prop_na = num_na/len(dados)\n",
    "\n",
    "d = {'var':list(dados.columns), 'num_na':num_na, 'prop':prop_na.round(2)}\n",
    "na_count = pd.DataFrame(data = d).sort_values(by=['num_na'], ascending = False)\n",
    "\n",
    "na_count"
   ]
  },
  {
   "cell_type": "markdown",
   "metadata": {},
   "source": [
    "Apesar do número significativos de missing values,  observe que São Paulo é o estado com o maior número de candidatos."
   ]
  },
  {
   "cell_type": "code",
   "execution_count": 52,
   "metadata": {},
   "outputs": [
    {
     "data": {
      "text/html": [
       "<div>\n",
       "<style scoped>\n",
       "    .dataframe tbody tr th:only-of-type {\n",
       "        vertical-align: middle;\n",
       "    }\n",
       "\n",
       "    .dataframe tbody tr th {\n",
       "        vertical-align: top;\n",
       "    }\n",
       "\n",
       "    .dataframe thead th {\n",
       "        text-align: right;\n",
       "    }\n",
       "</style>\n",
       "<table border=\"1\" class=\"dataframe\">\n",
       "  <thead>\n",
       "    <tr style=\"text-align: right;\">\n",
       "      <th></th>\n",
       "      <th>UF</th>\n",
       "      <th>n</th>\n",
       "      <th>prop</th>\n",
       "    </tr>\n",
       "  </thead>\n",
       "  <tbody>\n",
       "    <tr>\n",
       "      <th>0</th>\n",
       "      <td>SP</td>\n",
       "      <td>118119</td>\n",
       "      <td>0.186</td>\n",
       "    </tr>\n",
       "    <tr>\n",
       "      <th>1</th>\n",
       "      <td>CE</td>\n",
       "      <td>62632</td>\n",
       "      <td>0.099</td>\n",
       "    </tr>\n",
       "    <tr>\n",
       "      <th>2</th>\n",
       "      <td>MG</td>\n",
       "      <td>52721</td>\n",
       "      <td>0.083</td>\n",
       "    </tr>\n",
       "    <tr>\n",
       "      <th>3</th>\n",
       "      <td>RJ</td>\n",
       "      <td>46555</td>\n",
       "      <td>0.073</td>\n",
       "    </tr>\n",
       "    <tr>\n",
       "      <th>4</th>\n",
       "      <td>BA</td>\n",
       "      <td>36745</td>\n",
       "      <td>0.058</td>\n",
       "    </tr>\n",
       "    <tr>\n",
       "      <th>5</th>\n",
       "      <td>PR</td>\n",
       "      <td>34667</td>\n",
       "      <td>0.055</td>\n",
       "    </tr>\n",
       "    <tr>\n",
       "      <th>6</th>\n",
       "      <td>PE</td>\n",
       "      <td>31173</td>\n",
       "      <td>0.049</td>\n",
       "    </tr>\n",
       "    <tr>\n",
       "      <th>7</th>\n",
       "      <td>RS</td>\n",
       "      <td>29592</td>\n",
       "      <td>0.047</td>\n",
       "    </tr>\n",
       "    <tr>\n",
       "      <th>8</th>\n",
       "      <td>GO</td>\n",
       "      <td>26257</td>\n",
       "      <td>0.041</td>\n",
       "    </tr>\n",
       "    <tr>\n",
       "      <th>9</th>\n",
       "      <td>PA</td>\n",
       "      <td>22142</td>\n",
       "      <td>0.035</td>\n",
       "    </tr>\n",
       "    <tr>\n",
       "      <th>10</th>\n",
       "      <td>SC</td>\n",
       "      <td>21069</td>\n",
       "      <td>0.033</td>\n",
       "    </tr>\n",
       "    <tr>\n",
       "      <th>11</th>\n",
       "      <td>AM</td>\n",
       "      <td>17958</td>\n",
       "      <td>0.028</td>\n",
       "    </tr>\n",
       "    <tr>\n",
       "      <th>12</th>\n",
       "      <td>MA</td>\n",
       "      <td>17294</td>\n",
       "      <td>0.027</td>\n",
       "    </tr>\n",
       "    <tr>\n",
       "      <th>13</th>\n",
       "      <td>DF</td>\n",
       "      <td>15029</td>\n",
       "      <td>0.024</td>\n",
       "    </tr>\n",
       "    <tr>\n",
       "      <th>14</th>\n",
       "      <td>ES</td>\n",
       "      <td>14694</td>\n",
       "      <td>0.023</td>\n",
       "    </tr>\n",
       "    <tr>\n",
       "      <th>15</th>\n",
       "      <td>PB</td>\n",
       "      <td>13922</td>\n",
       "      <td>0.022</td>\n",
       "    </tr>\n",
       "    <tr>\n",
       "      <th>16</th>\n",
       "      <td>PI</td>\n",
       "      <td>11585</td>\n",
       "      <td>0.018</td>\n",
       "    </tr>\n",
       "    <tr>\n",
       "      <th>17</th>\n",
       "      <td>RN</td>\n",
       "      <td>11378</td>\n",
       "      <td>0.018</td>\n",
       "    </tr>\n",
       "    <tr>\n",
       "      <th>18</th>\n",
       "      <td>MT</td>\n",
       "      <td>10132</td>\n",
       "      <td>0.016</td>\n",
       "    </tr>\n",
       "    <tr>\n",
       "      <th>19</th>\n",
       "      <td>AL</td>\n",
       "      <td>9036</td>\n",
       "      <td>0.014</td>\n",
       "    </tr>\n",
       "    <tr>\n",
       "      <th>20</th>\n",
       "      <td>MS</td>\n",
       "      <td>8576</td>\n",
       "      <td>0.014</td>\n",
       "    </tr>\n",
       "    <tr>\n",
       "      <th>21</th>\n",
       "      <td>SE</td>\n",
       "      <td>7052</td>\n",
       "      <td>0.011</td>\n",
       "    </tr>\n",
       "    <tr>\n",
       "      <th>22</th>\n",
       "      <td>RO</td>\n",
       "      <td>5411</td>\n",
       "      <td>0.009</td>\n",
       "    </tr>\n",
       "    <tr>\n",
       "      <th>23</th>\n",
       "      <td>TO</td>\n",
       "      <td>4762</td>\n",
       "      <td>0.008</td>\n",
       "    </tr>\n",
       "    <tr>\n",
       "      <th>24</th>\n",
       "      <td>AC</td>\n",
       "      <td>2404</td>\n",
       "      <td>0.004</td>\n",
       "    </tr>\n",
       "    <tr>\n",
       "      <th>25</th>\n",
       "      <td>AP</td>\n",
       "      <td>2286</td>\n",
       "      <td>0.004</td>\n",
       "    </tr>\n",
       "    <tr>\n",
       "      <th>26</th>\n",
       "      <td>RR</td>\n",
       "      <td>1308</td>\n",
       "      <td>0.002</td>\n",
       "    </tr>\n",
       "  </tbody>\n",
       "</table>\n",
       "</div>"
      ],
      "text/plain": [
       "    UF       n   prop\n",
       "0   SP  118119  0.186\n",
       "1   CE   62632  0.099\n",
       "2   MG   52721  0.083\n",
       "3   RJ   46555  0.073\n",
       "4   BA   36745  0.058\n",
       "5   PR   34667  0.055\n",
       "6   PE   31173  0.049\n",
       "7   RS   29592  0.047\n",
       "8   GO   26257  0.041\n",
       "9   PA   22142  0.035\n",
       "10  SC   21069  0.033\n",
       "11  AM   17958  0.028\n",
       "12  MA   17294  0.027\n",
       "13  DF   15029  0.024\n",
       "14  ES   14694  0.023\n",
       "15  PB   13922  0.022\n",
       "16  PI   11585  0.018\n",
       "17  RN   11378  0.018\n",
       "18  MT   10132  0.016\n",
       "19  AL    9036  0.014\n",
       "20  MS    8576  0.014\n",
       "21  SE    7052  0.011\n",
       "22  RO    5411  0.009\n",
       "23  TO    4762  0.008\n",
       "24  AC    2404  0.004\n",
       "25  AP    2286  0.004\n",
       "26  RR    1308  0.002"
      ]
     },
     "execution_count": 52,
     "metadata": {},
     "output_type": "execute_result"
    }
   ],
   "source": [
    "uf = dados['uf'].value_counts(dropna=True).reset_index()\n",
    "uf.columns = ['UF','n']\n",
    "uf['prop'] = round(uf['n']/uf['n'].sum(),3)\n",
    "uf"
   ]
  },
  {
   "cell_type": "markdown",
   "metadata": {},
   "source": [
    "Como as variáveis mencionadas acima apresentam uma elevada quantidade de valores faltantes, ambas as colunas serão removidas para facilitar o processamento dos dados."
   ]
  },
  {
   "cell_type": "code",
   "execution_count": 53,
   "metadata": {},
   "outputs": [
    {
     "data": {
      "text/plain": [
       "(1988276, 12)"
      ]
     },
     "execution_count": 53,
     "metadata": {},
     "output_type": "execute_result"
    }
   ],
   "source": [
    "dados = dados.drop(['uf','Unnamed: 0','municipio'],axis=1)\n",
    "dados.shape"
   ]
  },
  {
   "attachments": {},
   "cell_type": "markdown",
   "metadata": {},
   "source": [
    "### Tabelas e Medidas\n",
    "\n",
    "As medidas calculadas aqui consideram somente os inscritos não-treineiros e os candidatos que compareceram em pelo menos um dos dias da realização do exame."
   ]
  },
  {
   "attachments": {},
   "cell_type": "markdown",
   "metadata": {},
   "source": [
    "##### Sexo"
   ]
  },
  {
   "cell_type": "code",
   "execution_count": 16,
   "metadata": {},
   "outputs": [
    {
     "data": {
      "text/html": [
       "<div>\n",
       "<style scoped>\n",
       "    .dataframe tbody tr th:only-of-type {\n",
       "        vertical-align: middle;\n",
       "    }\n",
       "\n",
       "    .dataframe tbody tr th {\n",
       "        vertical-align: top;\n",
       "    }\n",
       "\n",
       "    .dataframe thead th {\n",
       "        text-align: right;\n",
       "    }\n",
       "</style>\n",
       "<table border=\"1\" class=\"dataframe\">\n",
       "  <thead>\n",
       "    <tr style=\"text-align: right;\">\n",
       "      <th></th>\n",
       "      <th>n</th>\n",
       "      <th>prop</th>\n",
       "    </tr>\n",
       "    <tr>\n",
       "      <th>sexo</th>\n",
       "      <th></th>\n",
       "      <th></th>\n",
       "    </tr>\n",
       "  </thead>\n",
       "  <tbody>\n",
       "    <tr>\n",
       "      <th>Feminino</th>\n",
       "      <td>1212066</td>\n",
       "      <td>0.61</td>\n",
       "    </tr>\n",
       "    <tr>\n",
       "      <th>Masculino</th>\n",
       "      <td>776210</td>\n",
       "      <td>0.39</td>\n",
       "    </tr>\n",
       "  </tbody>\n",
       "</table>\n",
       "</div>"
      ],
      "text/plain": [
       "                 n  prop\n",
       "sexo                    \n",
       "Feminino   1212066  0.61\n",
       "Masculino   776210  0.39"
      ]
     },
     "execution_count": 16,
     "metadata": {},
     "output_type": "execute_result"
    }
   ],
   "source": [
    "sexo = dados.groupby('sexo').agg(n = ('sexo','count'))\n",
    "sexo['prop'] = round(sexo['n']/len(dados),3)\n",
    "sexo"
   ]
  },
  {
   "cell_type": "code",
   "execution_count": 38,
   "metadata": {},
   "outputs": [
    {
     "data": {
      "image/png": "[encoded data removed]",
      "text/plain": [
       "<Figure size 800x500 with 1 Axes>"
      ]
     },
     "metadata": {},
     "output_type": "display_data"
    }
   ],
   "source": [
    "barplot_sexo = sexo.plot(kind='bar', y = 'n', rot = 0, legend=False, color = 'purple', title = 'SEXO', xlabel= '', ylabel= 'Número de candidatos (em milhões)',\n",
    "          figsize=(8,5))"
   ]
  },
  {
   "cell_type": "code",
   "execution_count": 24,
   "metadata": {},
   "outputs": [
    {
     "data": {
      "text/plain": [
       "<AxesSubplot:>"
      ]
     },
     "execution_count": 24,
     "metadata": {},
     "output_type": "execute_result"
    },
    {
     "data": {
      "image/png": "[encoded data removed]",
      "text/plain": [
       "<Figure size 800x500 with 1 Axes>"
      ]
     },
     "metadata": {},
     "output_type": "display_data"
    }
   ],
   "source": [
    "pie_sexo = sexo.plot.pie(y = 'prop', title = '', ylabel = '', figsize = (8,5), colors = ['#ba323e','#3c3eb6'], autopct='%1.1f%%')\n",
    "pie_sexo"
   ]
  },
  {
   "cell_type": "markdown",
   "metadata": {},
   "source": [
    "#### Faixa Etária"
   ]
  },
  {
   "cell_type": "code",
   "execution_count": 65,
   "metadata": {},
   "outputs": [
    {
     "data": {
      "text/html": [
       "<div>\n",
       "<style scoped>\n",
       "    .dataframe tbody tr th:only-of-type {\n",
       "        vertical-align: middle;\n",
       "    }\n",
       "\n",
       "    .dataframe tbody tr th {\n",
       "        vertical-align: top;\n",
       "    }\n",
       "\n",
       "    .dataframe thead th {\n",
       "        text-align: right;\n",
       "    }\n",
       "</style>\n",
       "<table border=\"1\" class=\"dataframe\">\n",
       "  <thead>\n",
       "    <tr style=\"text-align: right;\">\n",
       "      <th></th>\n",
       "      <th>n</th>\n",
       "    </tr>\n",
       "    <tr>\n",
       "      <th>faixa_etaria</th>\n",
       "      <th></th>\n",
       "    </tr>\n",
       "  </thead>\n",
       "  <tbody>\n",
       "    <tr>\n",
       "      <th>Maior de 70 anos</th>\n",
       "      <td>332</td>\n",
       "    </tr>\n",
       "    <tr>\n",
       "      <th>Entre 66 e 70 anos</th>\n",
       "      <td>795</td>\n",
       "    </tr>\n",
       "    <tr>\n",
       "      <th>Entre 61 e 65 anos</th>\n",
       "      <td>2345</td>\n",
       "    </tr>\n",
       "    <tr>\n",
       "      <th>Entre 56 e 60 anos</th>\n",
       "      <td>6042</td>\n",
       "    </tr>\n",
       "    <tr>\n",
       "      <th>Entre 51 e 55 anos</th>\n",
       "      <td>11372</td>\n",
       "    </tr>\n",
       "    <tr>\n",
       "      <th>Entre 46 e 50 anos</th>\n",
       "      <td>19092</td>\n",
       "    </tr>\n",
       "    <tr>\n",
       "      <th>Entre 41 e 45 anos</th>\n",
       "      <td>29437</td>\n",
       "    </tr>\n",
       "    <tr>\n",
       "      <th>Entre 36 e 40 anos</th>\n",
       "      <td>44565</td>\n",
       "    </tr>\n",
       "    <tr>\n",
       "      <th>Entre 31 e 35 anos</th>\n",
       "      <td>60872</td>\n",
       "    </tr>\n",
       "    <tr>\n",
       "      <th>Entre 26 e 30 anos</th>\n",
       "      <td>107728</td>\n",
       "    </tr>\n",
       "    <tr>\n",
       "      <th>25 anos</th>\n",
       "      <td>35410</td>\n",
       "    </tr>\n",
       "    <tr>\n",
       "      <th>24 anos</th>\n",
       "      <td>44540</td>\n",
       "    </tr>\n",
       "    <tr>\n",
       "      <th>23 anos</th>\n",
       "      <td>54799</td>\n",
       "    </tr>\n",
       "    <tr>\n",
       "      <th>22 anos</th>\n",
       "      <td>75383</td>\n",
       "    </tr>\n",
       "    <tr>\n",
       "      <th>21 anos</th>\n",
       "      <td>106655</td>\n",
       "    </tr>\n",
       "    <tr>\n",
       "      <th>20 anos</th>\n",
       "      <td>161073</td>\n",
       "    </tr>\n",
       "    <tr>\n",
       "      <th>19 anos</th>\n",
       "      <td>273572</td>\n",
       "    </tr>\n",
       "    <tr>\n",
       "      <th>18 anos</th>\n",
       "      <td>536406</td>\n",
       "    </tr>\n",
       "    <tr>\n",
       "      <th>17 anos</th>\n",
       "      <td>402259</td>\n",
       "    </tr>\n",
       "    <tr>\n",
       "      <th>Menor de 17 anos</th>\n",
       "      <td>15599</td>\n",
       "    </tr>\n",
       "  </tbody>\n",
       "</table>\n",
       "</div>"
      ],
      "text/plain": [
       "                         n\n",
       "faixa_etaria              \n",
       "Maior de 70 anos       332\n",
       "Entre 66 e 70 anos     795\n",
       "Entre 61 e 65 anos    2345\n",
       "Entre 56 e 60 anos    6042\n",
       "Entre 51 e 55 anos   11372\n",
       "Entre 46 e 50 anos   19092\n",
       "Entre 41 e 45 anos   29437\n",
       "Entre 36 e 40 anos   44565\n",
       "Entre 31 e 35 anos   60872\n",
       "Entre 26 e 30 anos  107728\n",
       "25 anos              35410\n",
       "24 anos              44540\n",
       "23 anos              54799\n",
       "22 anos              75383\n",
       "21 anos             106655\n",
       "20 anos             161073\n",
       "19 anos             273572\n",
       "18 anos             536406\n",
       "17 anos             402259\n",
       "Menor de 17 anos     15599"
      ]
     },
     "execution_count": 65,
     "metadata": {},
     "output_type": "execute_result"
    }
   ],
   "source": [
    "fatores = ['Menor de 17 anos','17 anos', '18 anos', '19 anos', '20 anos','21 anos', '22 anos', '23 anos', '24 anos', '25 anos', \n",
    "           'Entre 26 e 30 anos', 'Entre 31 e 35 anos', 'Entre 36 e 40 anos', 'Entre 41 e 45 anos', 'Entre 46 e 50 anos', 'Entre 51 e 55 anos', \n",
    "             'Entre 56 e 60 anos', 'Entre 61 e 65 anos', 'Entre 66 e 70 anos', 'Maior de 70 anos']\n",
    "\n",
    "dados['faixa_etaria'] = pd.Categorical(dados['faixa_etaria'], categories = fatores, ordered = True)\n",
    "\n",
    "faixa_etaria = dados.groupby('faixa_etaria').agg(n = ('faixa_etaria','count')).sort_values('faixa_etaria', ascending = False)\n",
    "\n",
    "faixa_etaria"
   ]
  },
  {
   "cell_type": "code",
   "execution_count": 96,
   "metadata": {},
   "outputs": [
    {
     "data": {
      "text/plain": [
       "<AxesSubplot:title={'center':'Faixa Etária'}>"
      ]
     },
     "execution_count": 96,
     "metadata": {},
     "output_type": "execute_result"
    },
    {
     "data": {
      "image/png": "[encoded data removed]",
      "text/plain": [
       "<Figure size 800x500 with 1 Axes>"
      ]
     },
     "metadata": {},
     "output_type": "display_data"
    }
   ],
   "source": [
    "barplot_faixa_etaria = faixa_etaria.plot(kind='barh', y = 'n', rot = 0, legend=False, color = '#00a90a', title = 'Faixa Etária', xlabel= '', ylabel= 'Número de candidatos (em milhões)',\n",
    "          figsize=(8,5))\n",
    "barplot_faixa_etaria"
   ]
  },
  {
   "cell_type": "markdown",
   "metadata": {},
   "source": [
    "##### Raça e Cor"
   ]
  },
  {
   "cell_type": "code",
   "execution_count": 84,
   "metadata": {},
   "outputs": [
    {
     "data": {
      "text/html": [
       "<div>\n",
       "<style scoped>\n",
       "    .dataframe tbody tr th:only-of-type {\n",
       "        vertical-align: middle;\n",
       "    }\n",
       "\n",
       "    .dataframe tbody tr th {\n",
       "        vertical-align: top;\n",
       "    }\n",
       "\n",
       "    .dataframe thead th {\n",
       "        text-align: right;\n",
       "    }\n",
       "</style>\n",
       "<table border=\"1\" class=\"dataframe\">\n",
       "  <thead>\n",
       "    <tr style=\"text-align: right;\">\n",
       "      <th></th>\n",
       "      <th>n</th>\n",
       "    </tr>\n",
       "    <tr>\n",
       "      <th>raca_cor</th>\n",
       "      <th></th>\n",
       "    </tr>\n",
       "  </thead>\n",
       "  <tbody>\n",
       "    <tr>\n",
       "      <th>Parda</th>\n",
       "      <td>839878</td>\n",
       "    </tr>\n",
       "    <tr>\n",
       "      <th>Branca</th>\n",
       "      <td>820778</td>\n",
       "    </tr>\n",
       "    <tr>\n",
       "      <th>Preta</th>\n",
       "      <td>237758</td>\n",
       "    </tr>\n",
       "    <tr>\n",
       "      <th>Amarela</th>\n",
       "      <td>40217</td>\n",
       "    </tr>\n",
       "    <tr>\n",
       "      <th>Não declarado</th>\n",
       "      <td>39215</td>\n",
       "    </tr>\n",
       "    <tr>\n",
       "      <th>Indígena</th>\n",
       "      <td>10428</td>\n",
       "    </tr>\n",
       "  </tbody>\n",
       "</table>\n",
       "</div>"
      ],
      "text/plain": [
       "                    n\n",
       "raca_cor             \n",
       "Parda          839878\n",
       "Branca         820778\n",
       "Preta          237758\n",
       "Amarela         40217\n",
       "Não declarado   39215\n",
       "Indígena        10428"
      ]
     },
     "execution_count": 84,
     "metadata": {},
     "output_type": "execute_result"
    }
   ],
   "source": [
    "raca_cor = dados.groupby('raca_cor').agg(n = ('raca_cor','count')).sort_values('n', ascending=False).query(\"raca_cor != 'Não dispõe da informação'\")\n",
    "raca_cor"
   ]
  },
  {
   "cell_type": "code",
   "execution_count": 97,
   "metadata": {},
   "outputs": [
    {
     "data": {
      "text/plain": [
       "<AxesSubplot:title={'center':'Raça/Cor'}, ylabel='Número de candidatos'>"
      ]
     },
     "execution_count": 97,
     "metadata": {},
     "output_type": "execute_result"
    },
    {
     "data": {
      "image/png": "[encoded data removed]",
      "text/plain": [
       "<Figure size 800x500 with 1 Axes>"
      ]
     },
     "metadata": {},
     "output_type": "display_data"
    }
   ],
   "source": [
    "barplot_raca_cor = raca_cor.plot(kind='bar', y = 'n', rot = 0, legend=False, color = '#a9a400', title = 'Raça/Cor', xlabel= '', ylabel= 'Número de candidatos',\n",
    "          figsize=(8,5))\n",
    "barplot_raca_cor"
   ]
  },
  {
   "cell_type": "markdown",
   "metadata": {},
   "source": [
    "#### Tipo de Escola\n",
    "\n",
    "Note que a variável 'Escola' possui mais de 55% das respostas como não respondidas, apesar de ser uma variável bastante importante para fins de análise.\n"
   ]
  },
  {
   "cell_type": "code",
   "execution_count": 8,
   "metadata": {},
   "outputs": [
    {
     "data": {
      "text/html": [
       "<div>\n",
       "<style scoped>\n",
       "    .dataframe tbody tr th:only-of-type {\n",
       "        vertical-align: middle;\n",
       "    }\n",
       "\n",
       "    .dataframe tbody tr th {\n",
       "        vertical-align: top;\n",
       "    }\n",
       "\n",
       "    .dataframe thead th {\n",
       "        text-align: right;\n",
       "    }\n",
       "</style>\n",
       "<table border=\"1\" class=\"dataframe\">\n",
       "  <thead>\n",
       "    <tr style=\"text-align: right;\">\n",
       "      <th></th>\n",
       "      <th>n</th>\n",
       "      <th>prop</th>\n",
       "    </tr>\n",
       "    <tr>\n",
       "      <th>escola</th>\n",
       "      <th></th>\n",
       "      <th></th>\n",
       "    </tr>\n",
       "  </thead>\n",
       "  <tbody>\n",
       "    <tr>\n",
       "      <th>Não Respondeu</th>\n",
       "      <td>1093430</td>\n",
       "      <td>0.550</td>\n",
       "    </tr>\n",
       "    <tr>\n",
       "      <th>Pública</th>\n",
       "      <td>711671</td>\n",
       "      <td>0.358</td>\n",
       "    </tr>\n",
       "    <tr>\n",
       "      <th>Privada</th>\n",
       "      <td>183175</td>\n",
       "      <td>0.092</td>\n",
       "    </tr>\n",
       "  </tbody>\n",
       "</table>\n",
       "</div>"
      ],
      "text/plain": [
       "                     n   prop\n",
       "escola                       \n",
       "Não Respondeu  1093430  0.550\n",
       "Pública         711671  0.358\n",
       "Privada         183175  0.092"
      ]
     },
     "execution_count": 8,
     "metadata": {},
     "output_type": "execute_result"
    }
   ],
   "source": [
    "escola = dados.groupby('escola').agg(n = ('escola','count')).sort_values('n', ascending=False)\n",
    "escola['prop'] = round(escola['n']/len(dados),3)\n",
    "\n",
    "escola"
   ]
  },
  {
   "cell_type": "code",
   "execution_count": 9,
   "metadata": {},
   "outputs": [
    {
     "data": {
      "text/plain": [
       "<AxesSubplot:title={'center':'Tipo de Escola'}, ylabel='Número de candidatos'>"
      ]
     },
     "execution_count": 9,
     "metadata": {},
     "output_type": "execute_result"
    },
    {
     "data": {
      "image/png": "[encoded data removed]",
      "text/plain": [
       "<Figure size 800x500 with 1 Axes>"
      ]
     },
     "metadata": {},
     "output_type": "display_data"
    }
   ],
   "source": [
    "barplot_escola = escola.plot(kind='bar', y = 'n', rot = 0, legend=False, color = '#4a1b9e', title = 'Tipo de Escola', xlabel= '', ylabel= 'Número de candidatos',\n",
    "          figsize=(8,5))\n",
    "barplot_escola"
   ]
  },
  {
   "cell_type": "markdown",
   "metadata": {},
   "source": [
    "#### Status\n",
    "\n",
    "Status foi uma variável construida para verificar os candidatos aptos a participarem das vagas de universidades públicas via SISU. Se algum candidato(a) tirou nota zero em alguma área do conhecimento então este(a) não está qualificado(a).  \n",
    "\n",
    "Os candidatos com nota zero em alguma área (provavelmente) se ausentaram em algum dos dois dias de prova."
   ]
  },
  {
   "cell_type": "code",
   "execution_count": 10,
   "metadata": {},
   "outputs": [
    {
     "data": {
      "text/html": [
       "<div>\n",
       "<style scoped>\n",
       "    .dataframe tbody tr th:only-of-type {\n",
       "        vertical-align: middle;\n",
       "    }\n",
       "\n",
       "    .dataframe tbody tr th {\n",
       "        vertical-align: top;\n",
       "    }\n",
       "\n",
       "    .dataframe thead th {\n",
       "        text-align: right;\n",
       "    }\n",
       "</style>\n",
       "<table border=\"1\" class=\"dataframe\">\n",
       "  <thead>\n",
       "    <tr style=\"text-align: right;\">\n",
       "      <th></th>\n",
       "      <th>n</th>\n",
       "      <th>prop</th>\n",
       "    </tr>\n",
       "    <tr>\n",
       "      <th>status</th>\n",
       "      <th></th>\n",
       "      <th></th>\n",
       "    </tr>\n",
       "  </thead>\n",
       "  <tbody>\n",
       "    <tr>\n",
       "      <th>Habilitado</th>\n",
       "      <td>1821061</td>\n",
       "      <td>0.916</td>\n",
       "    </tr>\n",
       "    <tr>\n",
       "      <th>Não Habilitado</th>\n",
       "      <td>167215</td>\n",
       "      <td>0.084</td>\n",
       "    </tr>\n",
       "  </tbody>\n",
       "</table>\n",
       "</div>"
      ],
      "text/plain": [
       "                      n   prop\n",
       "status                        \n",
       "Habilitado      1821061  0.916\n",
       "Não Habilitado   167215  0.084"
      ]
     },
     "execution_count": 10,
     "metadata": {},
     "output_type": "execute_result"
    }
   ],
   "source": [
    "status = dados.groupby('status').agg(n = ('status','count')).sort_values('n', ascending=False)\n",
    "status['prop'] = round(status['n']/len(dados),3)\n",
    "status"
   ]
  },
  {
   "cell_type": "code",
   "execution_count": 11,
   "metadata": {},
   "outputs": [
    {
     "data": {
      "text/plain": [
       "<AxesSubplot:title={'center':'Status'}, ylabel='Número de candidatos'>"
      ]
     },
     "execution_count": 11,
     "metadata": {},
     "output_type": "execute_result"
    },
    {
     "data": {
      "image/png": "[encoded data removed]",
      "text/plain": [
       "<Figure size 800x500 with 1 Axes>"
      ]
     },
     "metadata": {},
     "output_type": "display_data"
    }
   ],
   "source": [
    "barplot_status = status.plot(kind='bar', y = 'n', rot = 0, legend=False, color = '#c4642d', title = 'Status', xlabel= '', ylabel= 'Número de candidatos',\n",
    "          figsize=(8,5))\n",
    "\n",
    "barplot_status"
   ]
  },
  {
   "cell_type": "markdown",
   "metadata": {},
   "source": [
    "### Pontuação das Provas"
   ]
  },
  {
   "cell_type": "code",
   "execution_count": 5,
   "metadata": {},
   "outputs": [
    {
     "data": {
      "text/html": [
       "<div>\n",
       "<style scoped>\n",
       "    .dataframe tbody tr th:only-of-type {\n",
       "        vertical-align: middle;\n",
       "    }\n",
       "\n",
       "    .dataframe tbody tr th {\n",
       "        vertical-align: top;\n",
       "    }\n",
       "\n",
       "    .dataframe thead th {\n",
       "        text-align: right;\n",
       "    }\n",
       "</style>\n",
       "<table border=\"1\" class=\"dataframe\">\n",
       "  <thead>\n",
       "    <tr style=\"text-align: right;\">\n",
       "      <th></th>\n",
       "      <th>Unnamed: 0</th>\n",
       "      <th>num_inscricao</th>\n",
       "      <th>faixa_etaria</th>\n",
       "      <th>sexo</th>\n",
       "      <th>raca_cor</th>\n",
       "      <th>ano_conclusao</th>\n",
       "      <th>escola</th>\n",
       "      <th>municipio</th>\n",
       "      <th>uf</th>\n",
       "      <th>nota_ciencia_natureza</th>\n",
       "      <th>nota_ciencia_humana</th>\n",
       "      <th>nota_linguagens</th>\n",
       "      <th>nota_matematica</th>\n",
       "      <th>redacao</th>\n",
       "    </tr>\n",
       "  </thead>\n",
       "  <tbody>\n",
       "    <tr>\n",
       "      <th>1</th>\n",
       "      <td>1</td>\n",
       "      <td>210052384164</td>\n",
       "      <td>Entre 31 e 35 anos</td>\n",
       "      <td>Masculino</td>\n",
       "      <td>Branca</td>\n",
       "      <td>11</td>\n",
       "      <td>Não Respondeu</td>\n",
       "      <td>NaN</td>\n",
       "      <td>NaN</td>\n",
       "      <td>505.9</td>\n",
       "      <td>551.8</td>\n",
       "      <td>498.3</td>\n",
       "      <td>461.5</td>\n",
       "      <td>560.0</td>\n",
       "    </tr>\n",
       "    <tr>\n",
       "      <th>2</th>\n",
       "      <td>3</td>\n",
       "      <td>210052128335</td>\n",
       "      <td>18 anos</td>\n",
       "      <td>Masculino</td>\n",
       "      <td>Parda</td>\n",
       "      <td>0</td>\n",
       "      <td>Pública</td>\n",
       "      <td>Crato</td>\n",
       "      <td>CE</td>\n",
       "      <td>580.7</td>\n",
       "      <td>678.9</td>\n",
       "      <td>638.9</td>\n",
       "      <td>659.5</td>\n",
       "      <td>780.0</td>\n",
       "    </tr>\n",
       "    <tr>\n",
       "      <th>3</th>\n",
       "      <td>4</td>\n",
       "      <td>210051353021</td>\n",
       "      <td>17 anos</td>\n",
       "      <td>Feminino</td>\n",
       "      <td>Parda</td>\n",
       "      <td>0</td>\n",
       "      <td>Pública</td>\n",
       "      <td>Redenção</td>\n",
       "      <td>CE</td>\n",
       "      <td>497.7</td>\n",
       "      <td>532.4</td>\n",
       "      <td>457.6</td>\n",
       "      <td>582.6</td>\n",
       "      <td>780.0</td>\n",
       "    </tr>\n",
       "    <tr>\n",
       "      <th>5</th>\n",
       "      <td>8</td>\n",
       "      <td>210053417016</td>\n",
       "      <td>23 anos</td>\n",
       "      <td>Feminino</td>\n",
       "      <td>Parda</td>\n",
       "      <td>0</td>\n",
       "      <td>Pública</td>\n",
       "      <td>NaN</td>\n",
       "      <td>NaN</td>\n",
       "      <td>487.4</td>\n",
       "      <td>476.5</td>\n",
       "      <td>450.7</td>\n",
       "      <td>493.4</td>\n",
       "      <td>520.0</td>\n",
       "    </tr>\n",
       "    <tr>\n",
       "      <th>6</th>\n",
       "      <td>9</td>\n",
       "      <td>210051128744</td>\n",
       "      <td>19 anos</td>\n",
       "      <td>Feminino</td>\n",
       "      <td>Parda</td>\n",
       "      <td>0</td>\n",
       "      <td>Pública</td>\n",
       "      <td>NaN</td>\n",
       "      <td>NaN</td>\n",
       "      <td>507.6</td>\n",
       "      <td>539.2</td>\n",
       "      <td>494.6</td>\n",
       "      <td>413.3</td>\n",
       "      <td>380.0</td>\n",
       "    </tr>\n",
       "    <tr>\n",
       "      <th>7</th>\n",
       "      <td>10</td>\n",
       "      <td>210052320506</td>\n",
       "      <td>20 anos</td>\n",
       "      <td>Feminino</td>\n",
       "      <td>Parda</td>\n",
       "      <td>2</td>\n",
       "      <td>Não Respondeu</td>\n",
       "      <td>NaN</td>\n",
       "      <td>NaN</td>\n",
       "      <td>650.9</td>\n",
       "      <td>617.9</td>\n",
       "      <td>631.7</td>\n",
       "      <td>796.7</td>\n",
       "      <td>980.0</td>\n",
       "    </tr>\n",
       "    <tr>\n",
       "      <th>8</th>\n",
       "      <td>11</td>\n",
       "      <td>210054444526</td>\n",
       "      <td>17 anos</td>\n",
       "      <td>Feminino</td>\n",
       "      <td>Branca</td>\n",
       "      <td>0</td>\n",
       "      <td>Pública</td>\n",
       "      <td>NaN</td>\n",
       "      <td>NaN</td>\n",
       "      <td>378.5</td>\n",
       "      <td>502.7</td>\n",
       "      <td>487.7</td>\n",
       "      <td>514.9</td>\n",
       "      <td>680.0</td>\n",
       "    </tr>\n",
       "    <tr>\n",
       "      <th>9</th>\n",
       "      <td>12</td>\n",
       "      <td>210053193408</td>\n",
       "      <td>Entre 26 e 30 anos</td>\n",
       "      <td>Masculino</td>\n",
       "      <td>Parda</td>\n",
       "      <td>11</td>\n",
       "      <td>Não Respondeu</td>\n",
       "      <td>NaN</td>\n",
       "      <td>NaN</td>\n",
       "      <td>537.6</td>\n",
       "      <td>476.5</td>\n",
       "      <td>553.2</td>\n",
       "      <td>509.7</td>\n",
       "      <td>560.0</td>\n",
       "    </tr>\n",
       "    <tr>\n",
       "      <th>10</th>\n",
       "      <td>15</td>\n",
       "      <td>210053021203</td>\n",
       "      <td>19 anos</td>\n",
       "      <td>Feminino</td>\n",
       "      <td>Parda</td>\n",
       "      <td>1</td>\n",
       "      <td>Não Respondeu</td>\n",
       "      <td>NaN</td>\n",
       "      <td>NaN</td>\n",
       "      <td>462.2</td>\n",
       "      <td>402.2</td>\n",
       "      <td>403.3</td>\n",
       "      <td>445.8</td>\n",
       "      <td>540.0</td>\n",
       "    </tr>\n",
       "    <tr>\n",
       "      <th>11</th>\n",
       "      <td>16</td>\n",
       "      <td>210053788150</td>\n",
       "      <td>22 anos</td>\n",
       "      <td>Feminino</td>\n",
       "      <td>Branca</td>\n",
       "      <td>4</td>\n",
       "      <td>Não Respondeu</td>\n",
       "      <td>NaN</td>\n",
       "      <td>NaN</td>\n",
       "      <td>487.9</td>\n",
       "      <td>419.9</td>\n",
       "      <td>488.2</td>\n",
       "      <td>553.1</td>\n",
       "      <td>720.0</td>\n",
       "    </tr>\n",
       "  </tbody>\n",
       "</table>\n",
       "</div>"
      ],
      "text/plain": [
       "    Unnamed: 0  num_inscricao        faixa_etaria       sexo raca_cor  \\\n",
       "1            1   210052384164  Entre 31 e 35 anos  Masculino   Branca   \n",
       "2            3   210052128335             18 anos  Masculino    Parda   \n",
       "3            4   210051353021             17 anos   Feminino    Parda   \n",
       "5            8   210053417016             23 anos   Feminino    Parda   \n",
       "6            9   210051128744             19 anos   Feminino    Parda   \n",
       "7           10   210052320506             20 anos   Feminino    Parda   \n",
       "8           11   210054444526             17 anos   Feminino   Branca   \n",
       "9           12   210053193408  Entre 26 e 30 anos  Masculino    Parda   \n",
       "10          15   210053021203             19 anos   Feminino    Parda   \n",
       "11          16   210053788150             22 anos   Feminino   Branca   \n",
       "\n",
       "    ano_conclusao         escola municipio   uf  nota_ciencia_natureza  \\\n",
       "1              11  Não Respondeu       NaN  NaN                  505.9   \n",
       "2               0        Pública     Crato   CE                  580.7   \n",
       "3               0        Pública  Redenção   CE                  497.7   \n",
       "5               0        Pública       NaN  NaN                  487.4   \n",
       "6               0        Pública       NaN  NaN                  507.6   \n",
       "7               2  Não Respondeu       NaN  NaN                  650.9   \n",
       "8               0        Pública       NaN  NaN                  378.5   \n",
       "9              11  Não Respondeu       NaN  NaN                  537.6   \n",
       "10              1  Não Respondeu       NaN  NaN                  462.2   \n",
       "11              4  Não Respondeu       NaN  NaN                  487.9   \n",
       "\n",
       "    nota_ciencia_humana  nota_linguagens  nota_matematica  redacao  \n",
       "1                 551.8            498.3            461.5    560.0  \n",
       "2                 678.9            638.9            659.5    780.0  \n",
       "3                 532.4            457.6            582.6    780.0  \n",
       "5                 476.5            450.7            493.4    520.0  \n",
       "6                 539.2            494.6            413.3    380.0  \n",
       "7                 617.9            631.7            796.7    980.0  \n",
       "8                 502.7            487.7            514.9    680.0  \n",
       "9                 476.5            553.2            509.7    560.0  \n",
       "10                402.2            403.3            445.8    540.0  \n",
       "11                419.9            488.2            553.1    720.0  "
      ]
     },
     "execution_count": 5,
     "metadata": {},
     "output_type": "execute_result"
    }
   ],
   "source": [
    "habilitados = dados.query(\"status == 'Habilitado'\")\n",
    "habilitados = habilitados.drop(['status'], axis = 1)\n",
    "habilitados.head(10)"
   ]
  },
  {
   "cell_type": "markdown",
   "metadata": {},
   "source": [
    "#### Histogramas"
   ]
  },
  {
   "cell_type": "code",
   "execution_count": 111,
   "metadata": {},
   "outputs": [
    {
     "data": {
      "text/plain": [
       "Text(0, 0.5, 'Número de Candidatos')"
      ]
     },
     "execution_count": 111,
     "metadata": {},
     "output_type": "execute_result"
    },
    {
     "data": {
      "image/png": "[encoded data removed]",
      "text/plain": [
       "<Figure size 640x480 with 1 Axes>"
      ]
     },
     "metadata": {},
     "output_type": "display_data"
    }
   ],
   "source": [
    "hist_humana = habilitados.hist(column = ['nota_ciencia_natureza'],bins = 10, grid = False, edgecolor = 'black')\n",
    "plt.title('Pontuação da Prova de Ciências da Natureza')\n",
    "plt.ylabel('Número de Candidatos')"
   ]
  },
  {
   "cell_type": "code",
   "execution_count": 113,
   "metadata": {},
   "outputs": [
    {
     "data": {
      "text/plain": [
       "Text(0, 0.5, 'Número de Candidatos')"
      ]
     },
     "execution_count": 113,
     "metadata": {},
     "output_type": "execute_result"
    },
    {
     "data": {
      "image/png": "[encoded data removed]",
      "text/plain": [
       "<Figure size 640x480 with 1 Axes>"
      ]
     },
     "metadata": {},
     "output_type": "display_data"
    }
   ],
   "source": [
    "habilitados.hist(column = ['nota_ciencia_humana'],bins = 10, grid = False, edgecolor = 'black', color = 'orange')\n",
    "plt.title('Pontuação da Prova de Ciências Humanas')\n",
    "plt.ylabel('Número de Candidatos')"
   ]
  },
  {
   "cell_type": "code",
   "execution_count": 122,
   "metadata": {},
   "outputs": [
    {
     "data": {
      "text/plain": [
       "Text(0, 0.5, 'Número de Candidatos')"
      ]
     },
     "execution_count": 122,
     "metadata": {},
     "output_type": "execute_result"
    },
    {
     "data": {
      "image/png": "[encoded data removed]",
      "text/plain": [
       "<Figure size 640x480 with 1 Axes>"
      ]
     },
     "metadata": {},
     "output_type": "display_data"
    }
   ],
   "source": [
    "habilitados.hist(column = ['nota_linguagens'],bins = 10, grid = False, edgecolor = 'black', color = '#7a63ed')\n",
    "plt.title('Pontuação da Prova de Linguagens')\n",
    "plt.ylabel('Número de Candidatos')"
   ]
  },
  {
   "cell_type": "code",
   "execution_count": 123,
   "metadata": {},
   "outputs": [
    {
     "data": {
      "text/plain": [
       "Text(0, 0.5, 'Número de Candidatos')"
      ]
     },
     "execution_count": 123,
     "metadata": {},
     "output_type": "execute_result"
    },
    {
     "data": {
      "image/png": "[encoded data removed]",
      "text/plain": [
       "<Figure size 640x480 with 1 Axes>"
      ]
     },
     "metadata": {},
     "output_type": "display_data"
    }
   ],
   "source": [
    "habilitados.hist(column = ['nota_matematica'],bins = 10, grid = False, edgecolor = 'black', color = '#9893a4')\n",
    "plt.title('Pontuação da Prova de Matemática')\n",
    "plt.ylabel('Número de Candidatos')"
   ]
  },
  {
   "cell_type": "code",
   "execution_count": 115,
   "metadata": {},
   "outputs": [
    {
     "data": {
      "text/plain": [
       "Text(0, 0.5, 'Número de Candidatos')"
      ]
     },
     "execution_count": 115,
     "metadata": {},
     "output_type": "execute_result"
    },
    {
     "data": {
      "image/png": "[encoded data removed]",
      "text/plain": [
       "<Figure size 640x480 with 1 Axes>"
      ]
     },
     "metadata": {},
     "output_type": "display_data"
    }
   ],
   "source": [
    "habilitados.hist(column = ['redacao'],bins = 10, grid = False, edgecolor = 'black', color = '#63ed85')\n",
    "plt.title('Pontuação da Prova de Redação')\n",
    "plt.ylabel('Número de Candidatos')"
   ]
  },
  {
   "cell_type": "markdown",
   "metadata": {},
   "source": [
    "##### Tabelas Exploratórias"
   ]
  },
  {
   "cell_type": "code",
   "execution_count": 58,
   "metadata": {},
   "outputs": [
    {
     "data": {
      "text/plain": [
       "[112725, 7949, 6023, 112787, 70739]"
      ]
     },
     "execution_count": 58,
     "metadata": {},
     "output_type": "execute_result"
    }
   ],
   "source": [
    "n_notas_zero = [len(dados.query(\"nota_ciencia_natureza == 0\")), len(dados.query(\"nota_ciencia_humana == 0\")),len(dados.query(\"nota_linguagens == 0\")),\n",
    "                len(dados.query(\"nota_matematica == 0\")), len(dados.query(\"redacao == 0\"))]\n",
    "\n",
    "n_notas_zero"
   ]
  },
  {
   "cell_type": "code",
   "execution_count": 69,
   "metadata": {},
   "outputs": [
    {
     "data": {
      "text/plain": [
       "nota_ciencia_natureza    495.03\n",
       "nota_ciencia_humana      527.14\n",
       "nota_linguagens          506.80\n",
       "nota_matematica          536.56\n",
       "redacao                  640.24\n",
       "dtype: float64"
      ]
     },
     "execution_count": 69,
     "metadata": {},
     "output_type": "execute_result"
    }
   ],
   "source": [
    "medias = habilitados[['nota_ciencia_natureza', 'nota_ciencia_humana', 'nota_linguagens', 'nota_matematica', 'redacao']].mean().round(2)\n",
    "medias"
   ]
  },
  {
   "cell_type": "code",
   "execution_count": 82,
   "metadata": {},
   "outputs": [
    {
     "data": {
      "text/plain": [
       "nota_ciencia_natureza     81.72\n",
       "nota_ciencia_humana       94.03\n",
       "nota_linguagens           78.13\n",
       "nota_matematica          112.03\n",
       "redacao                  154.45\n",
       "dtype: float64"
      ]
     },
     "execution_count": 82,
     "metadata": {},
     "output_type": "execute_result"
    }
   ],
   "source": [
    "desvio_padrao = habilitados[['nota_ciencia_natureza', 'nota_ciencia_humana', 'nota_linguagens', 'nota_matematica', 'redacao']].std().round(2)\n",
    "desvio_padrao"
   ]
  },
  {
   "cell_type": "code",
   "execution_count": 127,
   "metadata": {},
   "outputs": [
    {
     "data": {
      "text/plain": [
       "nota_ciencia_natureza     867.1\n",
       "nota_ciencia_humana       846.9\n",
       "nota_linguagens           826.1\n",
       "nota_matematica           953.1\n",
       "redacao                  1000.0\n",
       "dtype: float64"
      ]
     },
     "execution_count": 127,
     "metadata": {},
     "output_type": "execute_result"
    }
   ],
   "source": [
    "maximo = habilitados[['nota_ciencia_natureza', 'nota_ciencia_humana', 'nota_linguagens', 'nota_matematica', 'redacao']].max().round(2)\n",
    "maximo"
   ]
  },
  {
   "cell_type": "code",
   "execution_count": 125,
   "metadata": {},
   "outputs": [
    {
     "data": {
      "text/plain": [
       "nota_ciencia_natureza    307.7\n",
       "nota_ciencia_humana      311.6\n",
       "nota_linguagens          296.8\n",
       "nota_matematica          310.5\n",
       "redacao                   40.0\n",
       "dtype: float64"
      ]
     },
     "execution_count": 125,
     "metadata": {},
     "output_type": "execute_result"
    }
   ],
   "source": [
    "minimo = habilitados[['nota_ciencia_natureza', 'nota_ciencia_humana', 'nota_linguagens', 'nota_matematica', 'redacao']].min().round(2)\n",
    "minimo"
   ]
  },
  {
   "cell_type": "code",
   "execution_count": 135,
   "metadata": {},
   "outputs": [
    {
     "data": {
      "text/html": [
       "<div>\n",
       "<style scoped>\n",
       "    .dataframe tbody tr th:only-of-type {\n",
       "        vertical-align: middle;\n",
       "    }\n",
       "\n",
       "    .dataframe tbody tr th {\n",
       "        vertical-align: top;\n",
       "    }\n",
       "\n",
       "    .dataframe thead th {\n",
       "        text-align: right;\n",
       "    }\n",
       "</style>\n",
       "<table border=\"1\" class=\"dataframe\">\n",
       "  <thead>\n",
       "    <tr style=\"text-align: right;\">\n",
       "      <th></th>\n",
       "      <th>Média</th>\n",
       "      <th>SD</th>\n",
       "      <th>Máximo</th>\n",
       "      <th>Mínimo</th>\n",
       "      <th>n_Zero</th>\n",
       "    </tr>\n",
       "  </thead>\n",
       "  <tbody>\n",
       "    <tr>\n",
       "      <th>Ciência da Natureza</th>\n",
       "      <td>495.03</td>\n",
       "      <td>81.72</td>\n",
       "      <td>867.1</td>\n",
       "      <td>307.7</td>\n",
       "      <td>112725</td>\n",
       "    </tr>\n",
       "    <tr>\n",
       "      <th>Ciências Humanas</th>\n",
       "      <td>527.14</td>\n",
       "      <td>94.03</td>\n",
       "      <td>846.9</td>\n",
       "      <td>311.6</td>\n",
       "      <td>7949</td>\n",
       "    </tr>\n",
       "    <tr>\n",
       "      <th>Linguagens</th>\n",
       "      <td>506.80</td>\n",
       "      <td>78.13</td>\n",
       "      <td>826.1</td>\n",
       "      <td>296.8</td>\n",
       "      <td>6023</td>\n",
       "    </tr>\n",
       "    <tr>\n",
       "      <th>Matemática</th>\n",
       "      <td>536.56</td>\n",
       "      <td>112.03</td>\n",
       "      <td>953.1</td>\n",
       "      <td>310.5</td>\n",
       "      <td>112787</td>\n",
       "    </tr>\n",
       "    <tr>\n",
       "      <th>Redação</th>\n",
       "      <td>640.24</td>\n",
       "      <td>154.45</td>\n",
       "      <td>1000.0</td>\n",
       "      <td>40.0</td>\n",
       "      <td>70739</td>\n",
       "    </tr>\n",
       "  </tbody>\n",
       "</table>\n",
       "</div>"
      ],
      "text/plain": [
       "                      Média      SD  Máximo  Mínimo  n_Zero\n",
       "Ciência da Natureza  495.03   81.72   867.1   307.7  112725\n",
       "Ciências Humanas     527.14   94.03   846.9   311.6    7949\n",
       "Linguagens           506.80   78.13   826.1   296.8    6023\n",
       "Matemática           536.56  112.03   953.1   310.5  112787\n",
       "Redação              640.24  154.45  1000.0    40.0   70739"
      ]
     },
     "execution_count": 135,
     "metadata": {},
     "output_type": "execute_result"
    }
   ],
   "source": [
    "resumo = pd.concat([medias, desvio_padrao,maximo,minimo], ignore_index = True, axis = 1)\n",
    "resumo.columns = ['Média', 'SD','Máximo','Mínimo']\n",
    "resumo['n_Zero'] = n_notas_zero\n",
    "resumo.index = ['Ciência da Natureza','Ciências Humanas','Linguagens','Matemática','Redação']\n",
    "resumo"
   ]
  },
  {
   "cell_type": "code",
   "execution_count": 6,
   "metadata": {},
   "outputs": [
    {
     "data": {
      "text/plain": [
       "1821061"
      ]
     },
     "execution_count": 6,
     "metadata": {},
     "output_type": "execute_result"
    }
   ],
   "source": [
    "len(habilitados)"
   ]
  },
  {
   "cell_type": "markdown",
   "metadata": {},
   "source": [
    "#### Pontuação das provas, segundo Sexo e Raça/Cor"
   ]
  }
 ],
 "metadata": {
  "kernelspec": {
   "display_name": "base",
   "language": "python",
   "name": "python3"
  },
  "language_info": {
   "codemirror_mode": {
    "name": "ipython",
    "version": 3
   },
   "file_extension": ".py",
   "mimetype": "text/x-python",
   "name": "python",
   "nbconvert_exporter": "python",
   "pygments_lexer": "ipython3",
   "version": "3.9.13"
  },
  "orig_nbformat": 4,
  "vscode": {
   "interpreter": {
    "hash": "d4ec8d1b004c20f33e393022f6600c03ed6847e0c1003decedf3b842404db917"
   }
  }
 },
 "nbformat": 4,
 "nbformat_minor": 2
}
