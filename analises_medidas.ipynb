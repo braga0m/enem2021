{
 "cells": [
  {
   "attachments": {},
   "cell_type": "markdown",
   "metadata": {},
   "source": [
    "### Pacotes"
   ]
  },
  {
   "cell_type": "code",
   "execution_count": 1,
   "metadata": {},
   "outputs": [],
   "source": [
    "import pandas as pd\n",
    "import numpy as np"
   ]
  },
  {
   "attachments": {},
   "cell_type": "markdown",
   "metadata": {},
   "source": [
    "### Importando os dados  \n",
    "\n",
    "Os dados foram formatados e filtrados em outros arquivos.  \n",
    "\n",
    "Lembrando que, dos mais de 3.3 milhões de inscritos para a prova no ano de 2021, foram removidos da base de dados todos os participantes inscritos como treineiros (uma vez que eles não se beneficiariam de nenhum direito o ENEM proporciona) e os indivíduos que não compareceram em nenhum dos dias da realização do exame (ausentes).  \n",
    "\n",
    "Nesse primeiro momento, a seguinte análise considerada as variáveis socioeconômicas dos candidatos."
   ]
  },
  {
   "cell_type": "code",
   "execution_count": 56,
   "metadata": {},
   "outputs": [
    {
     "data": {
      "text/plain": [
       "(1988276, 15)"
      ]
     },
     "execution_count": 56,
     "metadata": {},
     "output_type": "execute_result"
    }
   ],
   "source": [
    "dados = pd.read_csv('C:/Users/Matias/Documents/Projetos_e_Estudos/ENEM_2021/DADOS/ENEM_2021_FINAL.csv',\n",
    "                    encoding='UTF-8', sep = ',')\n",
    "dados.shape"
   ]
  },
  {
   "cell_type": "markdown",
   "metadata": {},
   "source": [
    "### Declarando algumas variáveis"
   ]
  },
  {
   "cell_type": "code",
   "execution_count": 5,
   "metadata": {},
   "outputs": [
    {
     "data": {
      "text/plain": [
       "1988276"
      ]
     },
     "execution_count": 5,
     "metadata": {},
     "output_type": "execute_result"
    }
   ],
   "source": [
    "total_inscritos = 3389832\n",
    "\n",
    "total_nao_treineiros = 2952642\n",
    "\n"
   ]
  },
  {
   "cell_type": "markdown",
   "metadata": {},
   "source": [
    "### Informações do dataset"
   ]
  },
  {
   "cell_type": "code",
   "execution_count": 11,
   "metadata": {},
   "outputs": [
    {
     "name": "stdout",
     "output_type": "stream",
     "text": [
      "<class 'pandas.core.frame.DataFrame'>\n",
      "RangeIndex: 1988276 entries, 0 to 1988275\n",
      "Data columns (total 15 columns):\n",
      " #   Column                 Dtype  \n",
      "---  ------                 -----  \n",
      " 0   Unnamed: 0             int64  \n",
      " 1   num_inscricao          int64  \n",
      " 2   faixa_etaria           object \n",
      " 3   sexo                   object \n",
      " 4   raca_cor               object \n",
      " 5   ano_conclusao          int64  \n",
      " 6   escola                 object \n",
      " 7   municipio              object \n",
      " 8   uf                     object \n",
      " 9   nota_ciencia_natureza  float64\n",
      " 10  nota_ciencia_humana    float64\n",
      " 11  nota_linguagens        float64\n",
      " 12  nota_matematica        float64\n",
      " 13  redacao                float64\n",
      " 14  status                 object \n",
      "dtypes: float64(5), int64(3), object(7)\n",
      "memory usage: 227.5+ MB\n"
     ]
    }
   ],
   "source": [
    "dados.info()"
   ]
  },
  {
   "cell_type": "code",
   "execution_count": 9,
   "metadata": {},
   "outputs": [
    {
     "data": {
      "text/html": [
       "<div>\n",
       "<style scoped>\n",
       "    .dataframe tbody tr th:only-of-type {\n",
       "        vertical-align: middle;\n",
       "    }\n",
       "\n",
       "    .dataframe tbody tr th {\n",
       "        vertical-align: top;\n",
       "    }\n",
       "\n",
       "    .dataframe thead th {\n",
       "        text-align: right;\n",
       "    }\n",
       "</style>\n",
       "<table border=\"1\" class=\"dataframe\">\n",
       "  <thead>\n",
       "    <tr style=\"text-align: right;\">\n",
       "      <th></th>\n",
       "      <th>Unnamed: 0</th>\n",
       "      <th>num_inscricao</th>\n",
       "      <th>faixa_etaria</th>\n",
       "      <th>sexo</th>\n",
       "      <th>raca_cor</th>\n",
       "      <th>ano_conclusao</th>\n",
       "      <th>escola</th>\n",
       "      <th>municipio</th>\n",
       "      <th>uf</th>\n",
       "      <th>nota_ciencia_natureza</th>\n",
       "      <th>nota_ciencia_humana</th>\n",
       "      <th>nota_linguagens</th>\n",
       "      <th>nota_matematica</th>\n",
       "      <th>redacao</th>\n",
       "      <th>status</th>\n",
       "    </tr>\n",
       "  </thead>\n",
       "  <tbody>\n",
       "    <tr>\n",
       "      <th>0</th>\n",
       "      <td>0</td>\n",
       "      <td>210053865474</td>\n",
       "      <td>20 anos</td>\n",
       "      <td>Feminino</td>\n",
       "      <td>Branca</td>\n",
       "      <td>3</td>\n",
       "      <td>Não Respondeu</td>\n",
       "      <td>NaN</td>\n",
       "      <td>NaN</td>\n",
       "      <td>0.0</td>\n",
       "      <td>574.6</td>\n",
       "      <td>472.6</td>\n",
       "      <td>0.0</td>\n",
       "      <td>760.0</td>\n",
       "      <td>Não Habilitado</td>\n",
       "    </tr>\n",
       "    <tr>\n",
       "      <th>1</th>\n",
       "      <td>1</td>\n",
       "      <td>210052384164</td>\n",
       "      <td>Entre 31 e 35 anos</td>\n",
       "      <td>Masculino</td>\n",
       "      <td>Branca</td>\n",
       "      <td>11</td>\n",
       "      <td>Não Respondeu</td>\n",
       "      <td>NaN</td>\n",
       "      <td>NaN</td>\n",
       "      <td>505.9</td>\n",
       "      <td>551.8</td>\n",
       "      <td>498.3</td>\n",
       "      <td>461.5</td>\n",
       "      <td>560.0</td>\n",
       "      <td>Habilitado</td>\n",
       "    </tr>\n",
       "    <tr>\n",
       "      <th>2</th>\n",
       "      <td>3</td>\n",
       "      <td>210052128335</td>\n",
       "      <td>18 anos</td>\n",
       "      <td>Masculino</td>\n",
       "      <td>Parda</td>\n",
       "      <td>0</td>\n",
       "      <td>Pública</td>\n",
       "      <td>Crato</td>\n",
       "      <td>CE</td>\n",
       "      <td>580.7</td>\n",
       "      <td>678.9</td>\n",
       "      <td>638.9</td>\n",
       "      <td>659.5</td>\n",
       "      <td>780.0</td>\n",
       "      <td>Habilitado</td>\n",
       "    </tr>\n",
       "    <tr>\n",
       "      <th>3</th>\n",
       "      <td>4</td>\n",
       "      <td>210051353021</td>\n",
       "      <td>17 anos</td>\n",
       "      <td>Feminino</td>\n",
       "      <td>Parda</td>\n",
       "      <td>0</td>\n",
       "      <td>Pública</td>\n",
       "      <td>Redenção</td>\n",
       "      <td>CE</td>\n",
       "      <td>497.7</td>\n",
       "      <td>532.4</td>\n",
       "      <td>457.6</td>\n",
       "      <td>582.6</td>\n",
       "      <td>780.0</td>\n",
       "      <td>Habilitado</td>\n",
       "    </tr>\n",
       "    <tr>\n",
       "      <th>4</th>\n",
       "      <td>6</td>\n",
       "      <td>210052615524</td>\n",
       "      <td>24 anos</td>\n",
       "      <td>Feminino</td>\n",
       "      <td>Parda</td>\n",
       "      <td>6</td>\n",
       "      <td>Não Respondeu</td>\n",
       "      <td>NaN</td>\n",
       "      <td>NaN</td>\n",
       "      <td>0.0</td>\n",
       "      <td>511.9</td>\n",
       "      <td>420.4</td>\n",
       "      <td>0.0</td>\n",
       "      <td>480.0</td>\n",
       "      <td>Não Habilitado</td>\n",
       "    </tr>\n",
       "    <tr>\n",
       "      <th>5</th>\n",
       "      <td>8</td>\n",
       "      <td>210053417016</td>\n",
       "      <td>23 anos</td>\n",
       "      <td>Feminino</td>\n",
       "      <td>Parda</td>\n",
       "      <td>0</td>\n",
       "      <td>Pública</td>\n",
       "      <td>NaN</td>\n",
       "      <td>NaN</td>\n",
       "      <td>487.4</td>\n",
       "      <td>476.5</td>\n",
       "      <td>450.7</td>\n",
       "      <td>493.4</td>\n",
       "      <td>520.0</td>\n",
       "      <td>Habilitado</td>\n",
       "    </tr>\n",
       "    <tr>\n",
       "      <th>6</th>\n",
       "      <td>9</td>\n",
       "      <td>210051128744</td>\n",
       "      <td>19 anos</td>\n",
       "      <td>Feminino</td>\n",
       "      <td>Parda</td>\n",
       "      <td>0</td>\n",
       "      <td>Pública</td>\n",
       "      <td>NaN</td>\n",
       "      <td>NaN</td>\n",
       "      <td>507.6</td>\n",
       "      <td>539.2</td>\n",
       "      <td>494.6</td>\n",
       "      <td>413.3</td>\n",
       "      <td>380.0</td>\n",
       "      <td>Habilitado</td>\n",
       "    </tr>\n",
       "    <tr>\n",
       "      <th>7</th>\n",
       "      <td>10</td>\n",
       "      <td>210052320506</td>\n",
       "      <td>20 anos</td>\n",
       "      <td>Feminino</td>\n",
       "      <td>Parda</td>\n",
       "      <td>2</td>\n",
       "      <td>Não Respondeu</td>\n",
       "      <td>NaN</td>\n",
       "      <td>NaN</td>\n",
       "      <td>650.9</td>\n",
       "      <td>617.9</td>\n",
       "      <td>631.7</td>\n",
       "      <td>796.7</td>\n",
       "      <td>980.0</td>\n",
       "      <td>Habilitado</td>\n",
       "    </tr>\n",
       "    <tr>\n",
       "      <th>8</th>\n",
       "      <td>11</td>\n",
       "      <td>210054444526</td>\n",
       "      <td>17 anos</td>\n",
       "      <td>Feminino</td>\n",
       "      <td>Branca</td>\n",
       "      <td>0</td>\n",
       "      <td>Pública</td>\n",
       "      <td>NaN</td>\n",
       "      <td>NaN</td>\n",
       "      <td>378.5</td>\n",
       "      <td>502.7</td>\n",
       "      <td>487.7</td>\n",
       "      <td>514.9</td>\n",
       "      <td>680.0</td>\n",
       "      <td>Habilitado</td>\n",
       "    </tr>\n",
       "    <tr>\n",
       "      <th>9</th>\n",
       "      <td>12</td>\n",
       "      <td>210053193408</td>\n",
       "      <td>Entre 26 e 30 anos</td>\n",
       "      <td>Masculino</td>\n",
       "      <td>Parda</td>\n",
       "      <td>11</td>\n",
       "      <td>Não Respondeu</td>\n",
       "      <td>NaN</td>\n",
       "      <td>NaN</td>\n",
       "      <td>537.6</td>\n",
       "      <td>476.5</td>\n",
       "      <td>553.2</td>\n",
       "      <td>509.7</td>\n",
       "      <td>560.0</td>\n",
       "      <td>Habilitado</td>\n",
       "    </tr>\n",
       "  </tbody>\n",
       "</table>\n",
       "</div>"
      ],
      "text/plain": [
       "   Unnamed: 0  num_inscricao        faixa_etaria       sexo raca_cor  \\\n",
       "0           0   210053865474             20 anos   Feminino   Branca   \n",
       "1           1   210052384164  Entre 31 e 35 anos  Masculino   Branca   \n",
       "2           3   210052128335             18 anos  Masculino    Parda   \n",
       "3           4   210051353021             17 anos   Feminino    Parda   \n",
       "4           6   210052615524             24 anos   Feminino    Parda   \n",
       "5           8   210053417016             23 anos   Feminino    Parda   \n",
       "6           9   210051128744             19 anos   Feminino    Parda   \n",
       "7          10   210052320506             20 anos   Feminino    Parda   \n",
       "8          11   210054444526             17 anos   Feminino   Branca   \n",
       "9          12   210053193408  Entre 26 e 30 anos  Masculino    Parda   \n",
       "\n",
       "   ano_conclusao         escola municipio   uf  nota_ciencia_natureza  \\\n",
       "0              3  Não Respondeu       NaN  NaN                    0.0   \n",
       "1             11  Não Respondeu       NaN  NaN                  505.9   \n",
       "2              0        Pública     Crato   CE                  580.7   \n",
       "3              0        Pública  Redenção   CE                  497.7   \n",
       "4              6  Não Respondeu       NaN  NaN                    0.0   \n",
       "5              0        Pública       NaN  NaN                  487.4   \n",
       "6              0        Pública       NaN  NaN                  507.6   \n",
       "7              2  Não Respondeu       NaN  NaN                  650.9   \n",
       "8              0        Pública       NaN  NaN                  378.5   \n",
       "9             11  Não Respondeu       NaN  NaN                  537.6   \n",
       "\n",
       "   nota_ciencia_humana  nota_linguagens  nota_matematica  redacao  \\\n",
       "0                574.6            472.6              0.0    760.0   \n",
       "1                551.8            498.3            461.5    560.0   \n",
       "2                678.9            638.9            659.5    780.0   \n",
       "3                532.4            457.6            582.6    780.0   \n",
       "4                511.9            420.4              0.0    480.0   \n",
       "5                476.5            450.7            493.4    520.0   \n",
       "6                539.2            494.6            413.3    380.0   \n",
       "7                617.9            631.7            796.7    980.0   \n",
       "8                502.7            487.7            514.9    680.0   \n",
       "9                476.5            553.2            509.7    560.0   \n",
       "\n",
       "           status  \n",
       "0  Não Habilitado  \n",
       "1      Habilitado  \n",
       "2      Habilitado  \n",
       "3      Habilitado  \n",
       "4  Não Habilitado  \n",
       "5      Habilitado  \n",
       "6      Habilitado  \n",
       "7      Habilitado  \n",
       "8      Habilitado  \n",
       "9      Habilitado  "
      ]
     },
     "execution_count": 9,
     "metadata": {},
     "output_type": "execute_result"
    }
   ],
   "source": [
    "dados.head(10)"
   ]
  },
  {
   "cell_type": "markdown",
   "metadata": {},
   "source": [
    "#### Missing Values\n",
    "\n",
    "Note que mais de 68% das variáveis UF e municípios são valores faltantes, indicando assim que pouco valor pode ser extraído dessas colunas. "
   ]
  },
  {
   "cell_type": "code",
   "execution_count": 14,
   "metadata": {},
   "outputs": [
    {
     "data": {
      "text/html": [
       "<div>\n",
       "<style scoped>\n",
       "    .dataframe tbody tr th:only-of-type {\n",
       "        vertical-align: middle;\n",
       "    }\n",
       "\n",
       "    .dataframe tbody tr th {\n",
       "        vertical-align: top;\n",
       "    }\n",
       "\n",
       "    .dataframe thead th {\n",
       "        text-align: right;\n",
       "    }\n",
       "</style>\n",
       "<table border=\"1\" class=\"dataframe\">\n",
       "  <thead>\n",
       "    <tr style=\"text-align: right;\">\n",
       "      <th></th>\n",
       "      <th>var</th>\n",
       "      <th>num_na</th>\n",
       "      <th>prop</th>\n",
       "    </tr>\n",
       "  </thead>\n",
       "  <tbody>\n",
       "    <tr>\n",
       "      <th>7</th>\n",
       "      <td>municipio</td>\n",
       "      <td>1353777</td>\n",
       "      <td>0.68</td>\n",
       "    </tr>\n",
       "    <tr>\n",
       "      <th>8</th>\n",
       "      <td>uf</td>\n",
       "      <td>1353777</td>\n",
       "      <td>0.68</td>\n",
       "    </tr>\n",
       "    <tr>\n",
       "      <th>0</th>\n",
       "      <td>Unnamed: 0</td>\n",
       "      <td>0</td>\n",
       "      <td>0.00</td>\n",
       "    </tr>\n",
       "    <tr>\n",
       "      <th>1</th>\n",
       "      <td>num_inscricao</td>\n",
       "      <td>0</td>\n",
       "      <td>0.00</td>\n",
       "    </tr>\n",
       "    <tr>\n",
       "      <th>2</th>\n",
       "      <td>faixa_etaria</td>\n",
       "      <td>0</td>\n",
       "      <td>0.00</td>\n",
       "    </tr>\n",
       "    <tr>\n",
       "      <th>3</th>\n",
       "      <td>sexo</td>\n",
       "      <td>0</td>\n",
       "      <td>0.00</td>\n",
       "    </tr>\n",
       "    <tr>\n",
       "      <th>4</th>\n",
       "      <td>raca_cor</td>\n",
       "      <td>0</td>\n",
       "      <td>0.00</td>\n",
       "    </tr>\n",
       "    <tr>\n",
       "      <th>5</th>\n",
       "      <td>ano_conclusao</td>\n",
       "      <td>0</td>\n",
       "      <td>0.00</td>\n",
       "    </tr>\n",
       "    <tr>\n",
       "      <th>6</th>\n",
       "      <td>escola</td>\n",
       "      <td>0</td>\n",
       "      <td>0.00</td>\n",
       "    </tr>\n",
       "    <tr>\n",
       "      <th>9</th>\n",
       "      <td>nota_ciencia_natureza</td>\n",
       "      <td>0</td>\n",
       "      <td>0.00</td>\n",
       "    </tr>\n",
       "    <tr>\n",
       "      <th>10</th>\n",
       "      <td>nota_ciencia_humana</td>\n",
       "      <td>0</td>\n",
       "      <td>0.00</td>\n",
       "    </tr>\n",
       "    <tr>\n",
       "      <th>11</th>\n",
       "      <td>nota_linguagens</td>\n",
       "      <td>0</td>\n",
       "      <td>0.00</td>\n",
       "    </tr>\n",
       "    <tr>\n",
       "      <th>12</th>\n",
       "      <td>nota_matematica</td>\n",
       "      <td>0</td>\n",
       "      <td>0.00</td>\n",
       "    </tr>\n",
       "    <tr>\n",
       "      <th>13</th>\n",
       "      <td>redacao</td>\n",
       "      <td>0</td>\n",
       "      <td>0.00</td>\n",
       "    </tr>\n",
       "    <tr>\n",
       "      <th>14</th>\n",
       "      <td>status</td>\n",
       "      <td>0</td>\n",
       "      <td>0.00</td>\n",
       "    </tr>\n",
       "  </tbody>\n",
       "</table>\n",
       "</div>"
      ],
      "text/plain": [
       "                      var   num_na  prop\n",
       "7               municipio  1353777  0.68\n",
       "8                      uf  1353777  0.68\n",
       "0              Unnamed: 0        0  0.00\n",
       "1           num_inscricao        0  0.00\n",
       "2            faixa_etaria        0  0.00\n",
       "3                    sexo        0  0.00\n",
       "4                raca_cor        0  0.00\n",
       "5           ano_conclusao        0  0.00\n",
       "6                  escola        0  0.00\n",
       "9   nota_ciencia_natureza        0  0.00\n",
       "10    nota_ciencia_humana        0  0.00\n",
       "11        nota_linguagens        0  0.00\n",
       "12        nota_matematica        0  0.00\n",
       "13                redacao        0  0.00\n",
       "14                 status        0  0.00"
      ]
     },
     "execution_count": 14,
     "metadata": {},
     "output_type": "execute_result"
    }
   ],
   "source": [
    "#quantidade de missing values de cada variável\n",
    "num_na = np.array([sum(dados[i].isnull()) for i in list(dados.columns)])\n",
    "prop_na = num_na/len(dados)\n",
    "\n",
    "d = {'var':list(dados.columns), 'num_na':num_na, 'prop':prop_na.round(2)}\n",
    "na_count = pd.DataFrame(data = d).sort_values(by=['num_na'], ascending = False)\n",
    "\n",
    "na_count"
   ]
  },
  {
   "cell_type": "markdown",
   "metadata": {},
   "source": [
    "Apesar do número significativos de missing values,  observe que São Paulo é o estado com o maior número de candidatos."
   ]
  },
  {
   "cell_type": "code",
   "execution_count": 61,
   "metadata": {},
   "outputs": [
    {
     "data": {
      "text/plain": [
       "SP    118119\n",
       "CE     62632\n",
       "MG     52721\n",
       "RJ     46555\n",
       "BA     36745\n",
       "PR     34667\n",
       "PE     31173\n",
       "RS     29592\n",
       "GO     26257\n",
       "PA     22142\n",
       "SC     21069\n",
       "AM     17958\n",
       "MA     17294\n",
       "DF     15029\n",
       "ES     14694\n",
       "PB     13922\n",
       "PI     11585\n",
       "RN     11378\n",
       "MT     10132\n",
       "AL      9036\n",
       "MS      8576\n",
       "SE      7052\n",
       "RO      5411\n",
       "TO      4762\n",
       "AC      2404\n",
       "AP      2286\n",
       "RR      1308\n",
       "Name: uf, dtype: int64"
      ]
     },
     "execution_count": 61,
     "metadata": {},
     "output_type": "execute_result"
    }
   ],
   "source": [
    "dados['uf'].value_counts(dropna=True)"
   ]
  },
  {
   "cell_type": "markdown",
   "metadata": {},
   "source": [
    "Como as variáveis mencionadas acima apresentam uma elevada quantidade de valores faltantes, ambas as colunas serão removidas para facilitar o processamento dos dados."
   ]
  },
  {
   "cell_type": "code",
   "execution_count": 62,
   "metadata": {},
   "outputs": [
    {
     "data": {
      "text/plain": [
       "(1988276, 12)"
      ]
     },
     "execution_count": 62,
     "metadata": {},
     "output_type": "execute_result"
    }
   ],
   "source": [
    "dados = dados.drop(['uf','Unnamed: 0','municipio'],axis=1)\n",
    "dados.shape"
   ]
  },
  {
   "attachments": {},
   "cell_type": "markdown",
   "metadata": {},
   "source": [
    "### Tabelas e Medidas\n",
    "\n",
    "As medidas calculadas aqui consideram somente os inscritos não-treineiros e os candidatos que compareceram em pelo menos um dos dias da realização do exame."
   ]
  },
  {
   "attachments": {},
   "cell_type": "markdown",
   "metadata": {},
   "source": [
    "##### Sexo"
   ]
  },
  {
   "cell_type": "code",
   "execution_count": 63,
   "metadata": {},
   "outputs": [
    {
     "data": {
      "text/html": [
       "<div>\n",
       "<style scoped>\n",
       "    .dataframe tbody tr th:only-of-type {\n",
       "        vertical-align: middle;\n",
       "    }\n",
       "\n",
       "    .dataframe tbody tr th {\n",
       "        vertical-align: top;\n",
       "    }\n",
       "\n",
       "    .dataframe thead th {\n",
       "        text-align: right;\n",
       "    }\n",
       "</style>\n",
       "<table border=\"1\" class=\"dataframe\">\n",
       "  <thead>\n",
       "    <tr style=\"text-align: right;\">\n",
       "      <th></th>\n",
       "      <th>n</th>\n",
       "    </tr>\n",
       "    <tr>\n",
       "      <th>sexo</th>\n",
       "      <th></th>\n",
       "    </tr>\n",
       "  </thead>\n",
       "  <tbody>\n",
       "    <tr>\n",
       "      <th>Feminino</th>\n",
       "      <td>1212066</td>\n",
       "    </tr>\n",
       "    <tr>\n",
       "      <th>Masculino</th>\n",
       "      <td>776210</td>\n",
       "    </tr>\n",
       "  </tbody>\n",
       "</table>\n",
       "</div>"
      ],
      "text/plain": [
       "                 n\n",
       "sexo              \n",
       "Feminino   1212066\n",
       "Masculino   776210"
      ]
     },
     "execution_count": 63,
     "metadata": {},
     "output_type": "execute_result"
    }
   ],
   "source": [
    "sexo = dados.groupby('sexo').agg(n = ('sexo','count'))\n",
    "sexo"
   ]
  }
 ],
 "metadata": {
  "kernelspec": {
   "display_name": "base",
   "language": "python",
   "name": "python3"
  },
  "language_info": {
   "codemirror_mode": {
    "name": "ipython",
    "version": 3
   },
   "file_extension": ".py",
   "mimetype": "text/x-python",
   "name": "python",
   "nbconvert_exporter": "python",
   "pygments_lexer": "ipython3",
   "version": "3.9.13"
  },
  "orig_nbformat": 4,
  "vscode": {
   "interpreter": {
    "hash": "d4ec8d1b004c20f33e393022f6600c03ed6847e0c1003decedf3b842404db917"
   }
  }
 },
 "nbformat": 4,
 "nbformat_minor": 2
}
